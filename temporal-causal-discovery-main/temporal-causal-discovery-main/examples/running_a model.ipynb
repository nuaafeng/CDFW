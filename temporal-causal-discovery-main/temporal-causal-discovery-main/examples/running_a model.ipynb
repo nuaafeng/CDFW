{
 "cells": [
  {
   "cell_type": "code",
   "execution_count": 1,
   "id": "4dda3512-1fcd-442f-b4f9-790733cc8adb",
   "metadata": {},
   "outputs": [],
   "source": [
    "import sys\n",
    "import torch\n",
    "from torch import nn\n",
    "\n",
    "sys.path.append(\"../\") # if running from this folder\n",
    "from src.models import NAVAR\n",
    "from src.models import TCN\n",
    "from src.data import load_dataset"
   ]
  },
  {
   "cell_type": "code",
   "execution_count": 2,
   "id": "6693ae07-7849-44a7-9f5d-4ed34b0fd1c5",
   "metadata": {},
   "outputs": [
    {
     "data": {
      "text/plain": [
       "{'name': 'nonlinear-VAR_N-5_T-300',\n",
       " 'data': tensor([[[-2.7631, -2.1176, -0.6967,  ...,  0.9088,  0.4479,  1.3872],\n",
       "          [ 1.0702,  0.9536,  1.1921,  ...,  0.5790, -0.9674, -1.3237],\n",
       "          [ 1.8066,  2.3471,  1.7101,  ...,  0.0251, -0.5003,  0.1296],\n",
       "          [ 1.2085,  0.5059, -0.0125,  ...,  1.1270, -1.6082, -2.0201],\n",
       "          [-0.4758, -0.2494, -0.4014,  ..., -0.3803, -0.0652, -0.2039]]])}"
      ]
     },
     "execution_count": 2,
     "metadata": {},
     "output_type": "execute_result"
    }
   ],
   "source": [
    "dataset = load_dataset('causeme', 'nonlinear-VAR_N-5_T-300')[0]\n",
    "dataset"
   ]
  },
  {
   "cell_type": "code",
   "execution_count": 27,
   "id": "5ac29a71-967a-4765-aea5-3127120693cb",
   "metadata": {},
   "outputs": [
    {
     "ename": "KeyError",
     "evalue": "'ground_truth'",
     "output_type": "error",
     "traceback": [
      "\u001b[0;31m---------------------------------------------------------------------------\u001b[0m",
      "\u001b[0;31mKeyError\u001b[0m                                  Traceback (most recent call last)",
      "Cell \u001b[0;32mIn[27], line 1\u001b[0m\n\u001b[0;32m----> 1\u001b[0m ground_truth \u001b[38;5;241m=\u001b[39m dataset[\u001b[38;5;124m'\u001b[39m\u001b[38;5;124mground_truth\u001b[39m\u001b[38;5;124m'\u001b[39m]\n\u001b[1;32m      2\u001b[0m \u001b[38;5;66;03m#ground_truth = (torch.randn(5, 5) > 0).int() # fake ground truth data\u001b[39;00m\n\u001b[1;32m      3\u001b[0m ground_truth\n",
      "\u001b[0;31mKeyError\u001b[0m: 'ground_truth'"
     ]
    }
   ],
   "source": [
    "ground_truth = dataset['ground_truth']\n",
    "#ground_truth = (torch.randn(5, 5) > 0).int() # fake ground truth data\n",
    "ground_truth"
   ]
  },
  {
   "cell_type": "code",
   "execution_count": 5,
   "id": "2d1b042b-84d9-4b0f-b759-fbaa156f009d",
   "metadata": {},
   "outputs": [],
   "source": [
    "navar_params = {\n",
    "    'n_variables': 5,\n",
    "    'hidden_dim': 8,\n",
    "    'lambda1': 0.2 # regularization\n",
    "}\n",
    "tcn_params = {\n",
    "    'kernel_size': 3,\n",
    "    'n_blocks': 4,\n",
    "    'n_layers': 2,\n",
    "    'dropout': 0.2,\n",
    "}"
   ]
  },
  {
   "cell_type": "code",
   "execution_count": 14,
   "id": "207ca97c",
   "metadata": {},
   "outputs": [
    {
     "data": {
      "text/plain": [
       "TCN(\n",
       "  (tcn): DefaultTCN(\n",
       "    (network): Sequential(\n",
       "      (0): TemporalBlock(\n",
       "        (dropout): Dropout(p=0.2, inplace=False)\n",
       "        (relu): ReLU()\n",
       "        (convolutions): ModuleList(\n",
       "          (0): ParametrizedConv1d(\n",
       "            5, 40, kernel_size=(3,), stride=(1,), groups=5\n",
       "            (parametrizations): ModuleDict(\n",
       "              (weight): ParametrizationList(\n",
       "                (0): _WeightNorm()\n",
       "              )\n",
       "            )\n",
       "          )\n",
       "          (1): ParametrizedConv1d(\n",
       "            40, 40, kernel_size=(3,), stride=(1,), groups=5\n",
       "            (parametrizations): ModuleDict(\n",
       "              (weight): ParametrizationList(\n",
       "                (0): _WeightNorm()\n",
       "              )\n",
       "            )\n",
       "          )\n",
       "        )\n",
       "      )\n",
       "      (1): ReLU()\n",
       "      (2): Dropout(p=0.2, inplace=False)\n",
       "      (3): TemporalBlock(\n",
       "        (dropout): Dropout(p=0.2, inplace=False)\n",
       "        (relu): ReLU()\n",
       "        (convolutions): ModuleList(\n",
       "          (0-1): 2 x ParametrizedConv1d(\n",
       "            40, 40, kernel_size=(3,), stride=(1,), groups=5\n",
       "            (parametrizations): ModuleDict(\n",
       "              (weight): ParametrizationList(\n",
       "                (0): _WeightNorm()\n",
       "              )\n",
       "            )\n",
       "          )\n",
       "        )\n",
       "      )\n",
       "      (4): ReLU()\n",
       "      (5): Dropout(p=0.2, inplace=False)\n",
       "      (6): TemporalBlock(\n",
       "        (dropout): Dropout(p=0.2, inplace=False)\n",
       "        (relu): ReLU()\n",
       "        (convolutions): ModuleList(\n",
       "          (0-1): 2 x ParametrizedConv1d(\n",
       "            40, 40, kernel_size=(3,), stride=(1,), groups=5\n",
       "            (parametrizations): ModuleDict(\n",
       "              (weight): ParametrizationList(\n",
       "                (0): _WeightNorm()\n",
       "              )\n",
       "            )\n",
       "          )\n",
       "        )\n",
       "      )\n",
       "      (7): ReLU()\n",
       "      (8): Dropout(p=0.2, inplace=False)\n",
       "      (9): TemporalBlock(\n",
       "        (dropout): Dropout(p=0.2, inplace=False)\n",
       "        (relu): ReLU()\n",
       "        (convolutions): ModuleList(\n",
       "          (0-1): 2 x ParametrizedConv1d(\n",
       "            40, 40, kernel_size=(3,), stride=(1,), groups=5\n",
       "            (parametrizations): ModuleDict(\n",
       "              (weight): ParametrizationList(\n",
       "                (0): _WeightNorm()\n",
       "              )\n",
       "            )\n",
       "          )\n",
       "        )\n",
       "      )\n",
       "      (10): ReLU()\n",
       "      (11): Dropout(p=0.2, inplace=False)\n",
       "      (12): Conv1d(40, 25, kernel_size=(1,), stride=(1,), groups=5)\n",
       "    )\n",
       "  )\n",
       "  (dropout): Dropout(p=0.2, inplace=False)\n",
       ")"
      ]
     },
     "execution_count": 14,
     "metadata": {},
     "output_type": "execute_result"
    }
   ],
   "source": [
    "tcn_params = {\n",
    "    'groups': 5, # number of causal variables\n",
    "    'in_channels': 5,  # multiple of groups\n",
    "    'out_channels': 25,  # multiple of groups\n",
    "    'hidden_dim': 40,  # multiple of groups\n",
    "    'kernel_size': 3,\n",
    "    'n_blocks': 4,\n",
    "    'n_layers': 2,\n",
    "    'dropout': 0.2,\n",
    "}\n",
    "model = TCN(**tcn_params)\n",
    "\n",
    "if torch.cuda.is_available():\n",
    "    tensor_data = tensor_data.cuda()\n",
    "    model = model.cuda()\n",
    "    \n",
    "model"
   ]
  },
  {
   "cell_type": "code",
   "execution_count": 6,
   "id": "7148d238-cb3f-4480-a42e-47ae8682fcd1",
   "metadata": {},
   "outputs": [
    {
     "data": {
      "text/plain": [
       "NAVAR(\n",
       "  (contributions): TCN(\n",
       "    (tcn): DefaultTCN(\n",
       "      (network): Sequential(\n",
       "        (0): TemporalBlock(\n",
       "          (dropout): Dropout(p=0.2, inplace=False)\n",
       "          (relu): ReLU()\n",
       "          (convolutions): ModuleList(\n",
       "            (0): ParametrizedConv1d(\n",
       "              5, 40, kernel_size=(3,), stride=(1,), groups=5\n",
       "              (parametrizations): ModuleDict(\n",
       "                (weight): ParametrizationList(\n",
       "                  (0): _WeightNorm()\n",
       "                )\n",
       "              )\n",
       "            )\n",
       "            (1): ParametrizedConv1d(\n",
       "              40, 40, kernel_size=(3,), stride=(1,), groups=5\n",
       "              (parametrizations): ModuleDict(\n",
       "                (weight): ParametrizationList(\n",
       "                  (0): _WeightNorm()\n",
       "                )\n",
       "              )\n",
       "            )\n",
       "          )\n",
       "        )\n",
       "        (1): ReLU()\n",
       "        (2): Dropout(p=0.2, inplace=False)\n",
       "        (3): TemporalBlock(\n",
       "          (dropout): Dropout(p=0.2, inplace=False)\n",
       "          (relu): ReLU()\n",
       "          (convolutions): ModuleList(\n",
       "            (0-1): 2 x ParametrizedConv1d(\n",
       "              40, 40, kernel_size=(3,), stride=(1,), groups=5\n",
       "              (parametrizations): ModuleDict(\n",
       "                (weight): ParametrizationList(\n",
       "                  (0): _WeightNorm()\n",
       "                )\n",
       "              )\n",
       "            )\n",
       "          )\n",
       "        )\n",
       "        (4): ReLU()\n",
       "        (5): Dropout(p=0.2, inplace=False)\n",
       "        (6): TemporalBlock(\n",
       "          (dropout): Dropout(p=0.2, inplace=False)\n",
       "          (relu): ReLU()\n",
       "          (convolutions): ModuleList(\n",
       "            (0-1): 2 x ParametrizedConv1d(\n",
       "              40, 40, kernel_size=(3,), stride=(1,), groups=5\n",
       "              (parametrizations): ModuleDict(\n",
       "                (weight): ParametrizationList(\n",
       "                  (0): _WeightNorm()\n",
       "                )\n",
       "              )\n",
       "            )\n",
       "          )\n",
       "        )\n",
       "        (7): ReLU()\n",
       "        (8): Dropout(p=0.2, inplace=False)\n",
       "        (9): TemporalBlock(\n",
       "          (dropout): Dropout(p=0.2, inplace=False)\n",
       "          (relu): ReLU()\n",
       "          (convolutions): ModuleList(\n",
       "            (0-1): 2 x ParametrizedConv1d(\n",
       "              40, 40, kernel_size=(3,), stride=(1,), groups=5\n",
       "              (parametrizations): ModuleDict(\n",
       "                (weight): ParametrizationList(\n",
       "                  (0): _WeightNorm()\n",
       "                )\n",
       "              )\n",
       "            )\n",
       "          )\n",
       "        )\n",
       "        (10): ReLU()\n",
       "        (11): Dropout(p=0.2, inplace=False)\n",
       "        (12): Conv1d(40, 25, kernel_size=(1,), stride=(1,), groups=5)\n",
       "      )\n",
       "    )\n",
       "    (dropout): Dropout(p=0.2, inplace=False)\n",
       "  )\n",
       ")"
      ]
     },
     "execution_count": 6,
     "metadata": {},
     "output_type": "execute_result"
    }
   ],
   "source": [
    "model = NAVAR(**navar_params, **tcn_params)\n",
    "\n",
    "if torch.cuda.is_available():\n",
    "    tensor_data = tensor_data.cuda()\n",
    "    model = model.cuda()\n",
    "    \n",
    "model"
   ]
  },
  {
   "cell_type": "markdown",
   "id": "219d1ffa-cc28-4d90-ba74-edeb22fe92f6",
   "metadata": {},
   "source": [
    "## Forward function\n",
    "The forward function can return metrics (singular values such as loss and AUC) and artifacts (generated tensors in the process, such as causal_matrix etc)"
   ]
  },
  {
   "cell_type": "code",
   "execution_count": 15,
   "id": "211d8eb1-fc16-410c-8024-ce2b7906f613",
   "metadata": {},
   "outputs": [
    {
     "data": {
      "text/plain": [
       "tensor([[[ 0.2370, -0.0332,  0.2860,  ...,  0.2034,  0.2030,  0.0467],\n",
       "         [-0.0835, -0.2283, -0.2499,  ..., -0.1297, -0.1929, -0.2674],\n",
       "         [ 0.1389,  0.1386,  0.0464,  ...,  0.2297,  0.1298,  0.1301],\n",
       "         ...,\n",
       "         [-0.0440, -0.0708, -0.0274,  ..., -0.2234, -0.3793, -0.3538],\n",
       "         [-0.1531, -0.2222,  0.0156,  ..., -0.1362, -0.2597, -0.2477],\n",
       "         [-0.0348, -0.1209, -0.0138,  ...,  0.2015,  0.3637,  0.3025]]],\n",
       "       device='cuda:0', grad_fn=<ConvolutionBackward0>)"
      ]
     },
     "execution_count": 15,
     "metadata": {},
     "output_type": "execute_result"
    }
   ],
   "source": [
    "# return metrics data (loss AUC etc.)\n",
    "model(tensor_data)"
   ]
  },
  {
   "cell_type": "code",
   "execution_count": 16,
   "id": "d19bf643-3948-4168-91dd-6e4438996bd5",
   "metadata": {},
   "outputs": [
    {
     "ename": "TypeError",
     "evalue": "TCN.forward() got an unexpected keyword argument 'create_artifacts'",
     "output_type": "error",
     "traceback": [
      "\u001b[0;31m---------------------------------------------------------------------------\u001b[0m",
      "\u001b[0;31mTypeError\u001b[0m                                 Traceback (most recent call last)",
      "Cell \u001b[0;32mIn[16], line 2\u001b[0m\n\u001b[1;32m      1\u001b[0m \u001b[38;5;66;03m# create_artifacts will return artifacts alongside metrics (contributions, causal matrix etc.)\u001b[39;00m\n\u001b[0;32m----> 2\u001b[0m model(tensor_data, create_artifacts\u001b[38;5;241m=\u001b[39m\u001b[38;5;28;01mTrue\u001b[39;00m)\n",
      "File \u001b[0;32m~/miniconda3/envs/ML/lib/python3.11/site-packages/torch/nn/modules/module.py:1518\u001b[0m, in \u001b[0;36mModule._wrapped_call_impl\u001b[0;34m(self, *args, **kwargs)\u001b[0m\n\u001b[1;32m   1516\u001b[0m     \u001b[38;5;28;01mreturn\u001b[39;00m \u001b[38;5;28mself\u001b[39m\u001b[38;5;241m.\u001b[39m_compiled_call_impl(\u001b[38;5;241m*\u001b[39margs, \u001b[38;5;241m*\u001b[39m\u001b[38;5;241m*\u001b[39mkwargs)  \u001b[38;5;66;03m# type: ignore[misc]\u001b[39;00m\n\u001b[1;32m   1517\u001b[0m \u001b[38;5;28;01melse\u001b[39;00m:\n\u001b[0;32m-> 1518\u001b[0m     \u001b[38;5;28;01mreturn\u001b[39;00m \u001b[38;5;28mself\u001b[39m\u001b[38;5;241m.\u001b[39m_call_impl(\u001b[38;5;241m*\u001b[39margs, \u001b[38;5;241m*\u001b[39m\u001b[38;5;241m*\u001b[39mkwargs)\n",
      "File \u001b[0;32m~/miniconda3/envs/ML/lib/python3.11/site-packages/torch/nn/modules/module.py:1527\u001b[0m, in \u001b[0;36mModule._call_impl\u001b[0;34m(self, *args, **kwargs)\u001b[0m\n\u001b[1;32m   1522\u001b[0m \u001b[38;5;66;03m# If we don't have any hooks, we want to skip the rest of the logic in\u001b[39;00m\n\u001b[1;32m   1523\u001b[0m \u001b[38;5;66;03m# this function, and just call forward.\u001b[39;00m\n\u001b[1;32m   1524\u001b[0m \u001b[38;5;28;01mif\u001b[39;00m \u001b[38;5;129;01mnot\u001b[39;00m (\u001b[38;5;28mself\u001b[39m\u001b[38;5;241m.\u001b[39m_backward_hooks \u001b[38;5;129;01mor\u001b[39;00m \u001b[38;5;28mself\u001b[39m\u001b[38;5;241m.\u001b[39m_backward_pre_hooks \u001b[38;5;129;01mor\u001b[39;00m \u001b[38;5;28mself\u001b[39m\u001b[38;5;241m.\u001b[39m_forward_hooks \u001b[38;5;129;01mor\u001b[39;00m \u001b[38;5;28mself\u001b[39m\u001b[38;5;241m.\u001b[39m_forward_pre_hooks\n\u001b[1;32m   1525\u001b[0m         \u001b[38;5;129;01mor\u001b[39;00m _global_backward_pre_hooks \u001b[38;5;129;01mor\u001b[39;00m _global_backward_hooks\n\u001b[1;32m   1526\u001b[0m         \u001b[38;5;129;01mor\u001b[39;00m _global_forward_hooks \u001b[38;5;129;01mor\u001b[39;00m _global_forward_pre_hooks):\n\u001b[0;32m-> 1527\u001b[0m     \u001b[38;5;28;01mreturn\u001b[39;00m forward_call(\u001b[38;5;241m*\u001b[39margs, \u001b[38;5;241m*\u001b[39m\u001b[38;5;241m*\u001b[39mkwargs)\n\u001b[1;32m   1529\u001b[0m \u001b[38;5;28;01mtry\u001b[39;00m:\n\u001b[1;32m   1530\u001b[0m     result \u001b[38;5;241m=\u001b[39m \u001b[38;5;28;01mNone\u001b[39;00m\n",
      "\u001b[0;31mTypeError\u001b[0m: TCN.forward() got an unexpected keyword argument 'create_artifacts'"
     ]
    }
   ],
   "source": [
    "# create_artifacts will return artifacts alongside metrics (contributions, causal matrix etc.)\n",
    "model(tensor_data, create_artifacts=True)"
   ]
  },
  {
   "cell_type": "code",
   "execution_count": 9,
   "id": "dfdafb13-1e3a-4cc5-b313-735094cc2afa",
   "metadata": {},
   "outputs": [
    {
     "data": {
      "text/plain": [
       "({'loss': tensor(1.5335, device='cuda:0', grad_fn=<AddBackward0>)},\n",
       " {'prediction': tensor([[[-0.5720, -0.0872,  0.0017,  ..., -0.0567,  0.3313,  0.2350],\n",
       "           [-0.7680, -0.9373, -0.3441,  ..., -0.0939, -0.2571, -0.0378],\n",
       "           [-0.1387, -0.0976, -0.1740,  ...,  0.0344, -0.1770, -1.2991],\n",
       "           [-1.4404, -1.2722, -1.0456,  ..., -0.3899, -1.0287, -1.0718],\n",
       "           [ 0.3156, -0.3681, -0.1327,  ..., -0.2541, -0.3116, -0.3377]]],\n",
       "         device='cuda:0'),\n",
       "  'contributions': tensor([[[[-8.1771e-02, -2.2894e-02, -1.2391e-01,  ..., -4.3021e-02,\n",
       "              8.3342e-02, -5.7627e-02],\n",
       "            [ 4.1650e-02,  2.3861e-01,  1.2839e-01,  ...,  3.4058e-02,\n",
       "              1.5535e-01,  6.4186e-02],\n",
       "            [-3.5083e-01, -1.9479e-01, -1.8385e-01,  ..., -1.5335e-01,\n",
       "             -1.3711e-01, -1.8884e-01],\n",
       "            [-4.3871e-01, -3.5985e-01, -5.2439e-02,  ..., -1.2998e-01,\n",
       "             -2.6893e-02,  1.0229e-01],\n",
       "            [ 2.5777e-01,  2.5187e-01,  2.3364e-01,  ...,  2.3574e-01,\n",
       "              2.5671e-01,  3.1510e-01]],\n",
       "  \n",
       "           [[ 1.8900e-01,  6.0155e-02,  1.4574e-01,  ...,  5.3829e-01,\n",
       "              2.6765e-01,  1.3910e-01],\n",
       "            [-1.5066e-01, -1.4363e-01, -2.9738e-02,  ...,  2.6531e-02,\n",
       "             -2.0240e-01, -1.6086e-01],\n",
       "            [ 2.3293e-01,  4.0882e-02,  2.0679e-01,  ...,  1.0373e-01,\n",
       "              1.8909e-01,  2.0174e-01],\n",
       "            [-7.8219e-01, -6.9635e-01, -3.8226e-01,  ..., -5.2253e-01,\n",
       "             -2.3365e-01, -6.5209e-03],\n",
       "            [-2.5826e-01, -1.9956e-01, -2.8578e-01,  ..., -2.4111e-01,\n",
       "             -2.7901e-01, -2.1240e-01]],\n",
       "  \n",
       "           [[-9.0946e-04, -4.1122e-02,  2.8512e-02,  ...,  2.4651e-01,\n",
       "              6.0387e-02, -2.3370e-02],\n",
       "            [-2.9517e-02, -5.6170e-02, -4.2782e-02,  ..., -6.5408e-02,\n",
       "             -1.3253e-01, -2.0607e-01],\n",
       "            [-1.4707e-01,  2.8736e-01, -8.0357e-02,  ...,  1.0457e-01,\n",
       "              7.6602e-03, -6.7289e-02],\n",
       "            [ 2.5756e-02, -2.4612e-01, -1.1706e-01,  ..., -2.2300e-01,\n",
       "             -1.1814e-01, -1.0002e+00],\n",
       "            [-2.9118e-03, -5.7533e-02,  2.1713e-02,  ..., -4.4246e-02,\n",
       "             -1.0332e-02, -1.8133e-02]],\n",
       "  \n",
       "           [[-3.4231e-01, -4.2042e-01, -3.4992e-01,  ..., -8.4983e-03,\n",
       "             -3.1376e-01, -4.5048e-01],\n",
       "            [-2.9321e-02, -1.9360e-01, -2.0287e-01,  ..., -1.8454e-01,\n",
       "             -6.2418e-02, -5.5520e-03],\n",
       "            [-5.7551e-01, -4.8223e-01, -3.7247e-01,  ..., -4.3346e-01,\n",
       "             -3.7959e-01, -3.7958e-01],\n",
       "            [-4.3409e-01,  3.0735e-02, -1.0323e-01,  ...,  3.7971e-01,\n",
       "             -2.4363e-01, -1.3918e-01],\n",
       "            [-6.7182e-02, -2.1472e-01, -2.5103e-02,  ..., -1.5113e-01,\n",
       "             -3.7383e-02, -1.0502e-01]],\n",
       "  \n",
       "           [[ 1.3926e-01, -1.4085e-01, -2.0968e-02,  ...,  1.3267e-03,\n",
       "             -1.6647e-01,  6.4324e-02],\n",
       "            [-2.7808e-01, -2.5187e-01, -1.7630e-01,  ..., -6.2002e-02,\n",
       "             -3.7895e-01, -2.4109e-01],\n",
       "            [-1.8818e-01, -4.8340e-02, -4.9723e-02,  ..., -1.1159e-01,\n",
       "             -3.5893e-02, -4.9778e-02],\n",
       "            [ 5.7794e-01, -5.2694e-02,  6.0504e-02,  ..., -2.3148e-01,\n",
       "              1.8448e-01, -1.4289e-01],\n",
       "            [ 6.1851e-02,  1.2286e-01,  5.1033e-02,  ...,  1.4683e-01,\n",
       "              8.2487e-02,  2.8917e-02]]]], device='cuda:0'),\n",
       "  'matrix': tensor([[[0.1134, 0.1159, 0.1163,  ..., 0.2269, 0.1969, 0.1977],\n",
       "           [0.2837, 0.2823, 0.2806,  ..., 0.4793, 0.4551, 0.4512],\n",
       "           [0.2039, 0.2074, 0.2361,  ..., 0.1845, 0.1854, 0.1866],\n",
       "           [0.5169, 0.5233, 0.5236,  ..., 0.4897, 0.4733, 0.4416],\n",
       "           [0.2340, 0.2344, 0.2388,  ..., 0.2577, 0.2592, 0.2587]],\n",
       "  \n",
       "          [[0.2502, 0.2524, 0.2564,  ..., 0.4846, 0.4737, 0.4740],\n",
       "           [0.3106, 0.3075, 0.3046,  ..., 0.4587, 0.4229, 0.4257],\n",
       "           [0.2087, 0.2096, 0.2275,  ..., 0.1983, 0.1919, 0.1899],\n",
       "           [0.6975, 0.6943, 0.6915,  ..., 0.7375, 0.7340, 0.7022],\n",
       "           [0.2863, 0.2843, 0.2838,  ..., 0.3306, 0.3323, 0.3320]],\n",
       "  \n",
       "          [[0.0301, 0.0315, 0.0318,  ..., 0.2307, 0.2207, 0.2218],\n",
       "           [0.1340, 0.1328, 0.1340,  ..., 0.1554, 0.1562, 0.1519],\n",
       "           [0.2068, 0.2119, 0.2715,  ..., 0.2982, 0.2819, 0.2816],\n",
       "           [0.5343, 0.5339, 0.5318,  ..., 0.4608, 0.4555, 0.4560],\n",
       "           [0.1553, 0.1557, 0.1557,  ..., 0.1209, 0.1200, 0.1038]],\n",
       "  \n",
       "          [[0.4486, 0.4462, 0.4419,  ..., 0.4992, 0.4722, 0.4749],\n",
       "           [0.1762, 0.1781, 0.1786,  ..., 0.3851, 0.3704, 0.3704],\n",
       "           [0.5388, 0.5352, 0.5414,  ..., 0.5036, 0.4986, 0.4992],\n",
       "           [0.5247, 0.5270, 0.5267,  ..., 0.4193, 0.4094, 0.4073],\n",
       "           [0.3059, 0.3069, 0.3092,  ..., 0.2170, 0.2169, 0.2063]],\n",
       "  \n",
       "          [[0.1107, 0.1124, 0.1271,  ..., 0.2217, 0.2150, 0.2129],\n",
       "           [0.2644, 0.2620, 0.2587,  ..., 0.3970, 0.3695, 0.3705],\n",
       "           [0.2382, 0.2433, 0.2423,  ..., 0.1526, 0.1395, 0.1400],\n",
       "           [0.3750, 0.3776, 0.3785,  ..., 0.2375, 0.2321, 0.2263],\n",
       "           [0.1416, 0.1413, 0.1479,  ..., 0.3157, 0.3152, 0.3099]]],\n",
       "         device='cuda:0')})"
      ]
     },
     "execution_count": 9,
     "metadata": {},
     "output_type": "execute_result"
    }
   ],
   "source": [
    "# temporal_matrix will apply a sliding window std to construct a temporal matrix\n",
    "model(tensor_data, create_artifacts=True, temporal_matrix=True)"
   ]
  },
  {
   "cell_type": "code",
   "execution_count": 25,
   "id": "99231aa5-c574-4942-8821-d61390c9c72e",
   "metadata": {},
   "outputs": [
    {
     "ename": "NameError",
     "evalue": "name 'model' is not defined",
     "output_type": "error",
     "traceback": [
      "\u001b[0;31m---------------------------------------------------------------------------\u001b[0m",
      "\u001b[0;31mNameError\u001b[0m                                 Traceback (most recent call last)",
      "Cell \u001b[0;32mIn[25], line 2\u001b[0m\n\u001b[1;32m      1\u001b[0m \u001b[38;5;66;03m# ground_truth will compute AUC etc. and adds it to metrics\u001b[39;00m\n\u001b[0;32m----> 2\u001b[0m model(tensor_data, create_artifacts\u001b[38;5;241m=\u001b[39m\u001b[38;5;28;01mTrue\u001b[39;00m, ground_truth\u001b[38;5;241m=\u001b[39mground_truth)\n",
      "\u001b[0;31mNameError\u001b[0m: name 'model' is not defined"
     ]
    }
   ],
   "source": [
    "# ground_truth will compute AUC etc. and adds it to metrics\n",
    "model(tensor_data, create_artifacts=True, ground_truth=ground_truth)"
   ]
  }
 ],
 "metadata": {
  "kernelspec": {
   "display_name": "ML",
   "language": "python",
   "name": "python3"
  },
  "language_info": {
   "codemirror_mode": {
    "name": "ipython",
    "version": 3
   },
   "file_extension": ".py",
   "mimetype": "text/x-python",
   "name": "python",
   "nbconvert_exporter": "python",
   "pygments_lexer": "ipython3",
   "version": "3.11.9"
  }
 },
 "nbformat": 4,
 "nbformat_minor": 5
}
